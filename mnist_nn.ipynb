{
 "cells": [
  {
   "cell_type": "code",
   "execution_count": 181,
   "id": "1365fafb",
   "metadata": {},
   "outputs": [],
   "source": [
    "import random\n",
    "import math\n",
    "import os\n",
    "\n",
    "import pandas as pd\n",
    "import numpy as np\n",
    "import tensorflow as tf\n",
    "from tensorflow.keras import layers, models\n",
    "import matplotlib.pyplot as plt"
   ]
  },
  {
   "cell_type": "code",
   "execution_count": 172,
   "id": "88f9232c",
   "metadata": {},
   "outputs": [],
   "source": [
    "# Load the MNIST dataset\n",
    "(X_train, Y_train), (X_test, Y_test) = tf.keras.datasets.mnist.load_data()\n",
    "\n",
    "# Split the training set into training and validation sets\n",
    "X_train, X_val = X_train[:50000], X_train[50000:]\n",
    "Y_train, Y_val = Y_train[:50000], Y_train[50000:]"
   ]
  },
  {
   "cell_type": "markdown",
   "id": "c240af3e",
   "metadata": {},
   "source": [
    "Here Y_train = labels, X_train = pixels"
   ]
  },
  {
   "cell_type": "code",
   "execution_count": 168,
   "id": "8aa6adba",
   "metadata": {},
   "outputs": [
    {
     "data": {
      "text/plain": [
       "(50000, 28, 28)"
      ]
     },
     "execution_count": 168,
     "metadata": {},
     "output_type": "execute_result"
    }
   ],
   "source": [
    "X_train.shape"
   ]
  },
  {
   "cell_type": "code",
   "execution_count": 169,
   "id": "58350aa8",
   "metadata": {},
   "outputs": [
    {
     "data": {
      "text/plain": [
       "(50000,)"
      ]
     },
     "execution_count": 169,
     "metadata": {},
     "output_type": "execute_result"
    }
   ],
   "source": [
    "Y_train.shape"
   ]
  },
  {
   "cell_type": "markdown",
   "id": "1e31fb56",
   "metadata": {},
   "source": [
    "##### Analyze input data"
   ]
  },
  {
   "cell_type": "code",
   "execution_count": 162,
   "id": "c67f8f55",
   "metadata": {},
   "outputs": [
    {
     "data": {
      "text/plain": [
       "10"
      ]
     },
     "execution_count": 162,
     "metadata": {},
     "output_type": "execute_result"
    }
   ],
   "source": [
    "len(set(Y_train))"
   ]
  },
  {
   "cell_type": "code",
   "execution_count": 164,
   "id": "6c45538b",
   "metadata": {},
   "outputs": [
    {
     "data": {
      "image/png": "[encoded data removed]",
      "text/plain": [
       "<Figure size 640x480 with 9 Axes>"
      ]
     },
     "metadata": {},
     "output_type": "display_data"
    }
   ],
   "source": [
    "#Visualize the input data\n",
    "\n",
    "for i in range(len(set(Y_train))-1):\n",
    "    \n",
    " # define subplot w/ 3x3 grid and ith position\n",
    " plt.subplot(3, 3, 1+i)\n",
    " # plot raw pixel data\n",
    " plt.imshow(X_train[i], cmap=plt.get_cmap('gray'))\n",
    "# show the figure\n",
    "plt.show()"
   ]
  },
  {
   "cell_type": "code",
   "execution_count": 165,
   "id": "7acb0012",
   "metadata": {},
   "outputs": [
    {
     "data": {
      "text/plain": [
       "<matplotlib.image.AxesImage at 0x7fc8db99af80>"
      ]
     },
     "execution_count": 165,
     "metadata": {},
     "output_type": "execute_result"
    },
    {
     "data": {
      "image/png": "[encoded data removed]",
      "text/plain": [
       "<Figure size 640x480 with 1 Axes>"
      ]
     },
     "metadata": {},
     "output_type": "display_data"
    }
   ],
   "source": [
    "plt.imshow(X_train[0], cmap=plt.get_cmap('gray'))"
   ]
  },
  {
   "cell_type": "markdown",
   "id": "90bcfcc1",
   "metadata": {},
   "source": [
    "Our training dataset is **60,000** image samples with each of 28x28 pixels represented as a value between 0(black) and 255(white). \n",
    "\n",
    "In deep learning and machine learning, it is a common practice to represent image data in a specific format:\n",
    "\n",
    "Data Shape: Images are typically represented as multi-dimensional arrays (tensors) where each dimension corresponds to a specific aspect of the data. In the case of 2D images, you often have a 3D tensor with dimensions representing (number of samples, height, width).\n",
    "\n",
    "Channels: Color images usually have three channels **(RGB)**, while grayscale images have a single channel. The number of channels is often the last dimension in the tensor."
   ]
  },
  {
   "cell_type": "code",
   "execution_count": 170,
   "id": "c327b2fc",
   "metadata": {},
   "outputs": [
    {
     "name": "stdout",
     "output_type": "stream",
     "text": [
      "784\n"
     ]
    }
   ],
   "source": [
    "# confirm each of the 784 pixel in 28x28 dimension is represented\n",
    "\n",
    "c = 0\n",
    "\n",
    "idx = random.randint(0, X_train.shape[0])\n",
    "\n",
    "for i in X_train[idx]:\n",
    "    \n",
    "    for e in i:\n",
    "        \n",
    "        c += 1\n",
    "        \n",
    "print(c)       "
   ]
  },
  {
   "cell_type": "code",
   "execution_count": 173,
   "id": "d85c3bd6",
   "metadata": {},
   "outputs": [
    {
     "name": "stdout",
     "output_type": "stream",
     "text": [
      "Original X_train shape in 3D (50000, 28, 28)\n",
      "Modified X_train shape in 2D (50000, 784)\n"
     ]
    }
   ],
   "source": [
    "# Reshape from 3D to 2D\n",
    "print(f\"Original X_train shape in 3D {X_train.shape}\")\n",
    "X_train = X_train.reshape(X_train.shape[0], -1) / 255.0\n",
    "X_val = X_val.reshape(X_val.shape[0], -1) / 255.0\n",
    "X_test = X_test.reshape(X_test.shape[0], -1) / 255.0\n",
    "print(f\"Modified X_train shape in 2D {X_train.shape}\")"
   ]
  },
  {
   "cell_type": "markdown",
   "id": "20404a79",
   "metadata": {},
   "source": [
    "### Implement from scratch"
   ]
  },
  {
   "cell_type": "markdown",
   "id": "4558cbf8",
   "metadata": {},
   "source": [
    "This neural network has an input layer, a hidden layer, and an output layer. Here's a breakdown of each part of the class and its functionality:\n",
    "\n",
    "Initialization (Constructor):\n",
    "\n",
    "The constructor __init__ initializes the neural network. It takes several parameters:\n",
    "\n",
    "**input_size:** The number of input features.\n",
    "**hidden_size:** The number of units in the hidden layer.\n",
    "**output_size:** The number of output units.\n",
    "**learning_rate:** The learning rate used for gradient descent (default is 0.01)\n",
    "\n",
    "It initializes the following attributes:\n",
    "\n",
    "input_size, hidden_size, output_size, and learning_rate.\n",
    "Weight matrices W1 and W2 for the connections between layers.\n",
    "Bias vectors b1 and b2 for each layer.\n",
    "The weights are initialized with random values, and biases are initialized to zeros.\n",
    "\n",
    "**Activation Functions:**\n",
    "\n",
    "**_sigmoid:** A method for the sigmoid activation function used in the hidden layer.\n",
    "**_softmax:** A method for the softmax activation function used in the output layer.\n",
    "\n",
    "Forward Pass:\n",
    "\n",
    "**_forward_pass:** This method computes the forward pass of the neural network. Given the input X, it computes the activations and probabilities at the hidden and output layers.\n",
    "It calculates z1, a1, and z2 using the weight matrices and biases.\n",
    "The sigmoid activation function is applied to z1, and the softmax activation function to z2.\n",
    "Loss Function:\n",
    "\n",
    "**_compute_loss:** A method for calculating the loss based on predicted probabilities (probs) and actual labels (Y). The loss is computed using the cross-entropy loss function.\n",
    "Backpropagation:\n",
    "\n",
    "**_backward_pass:** This method performs backpropagation to compute gradients of the loss with respect to the network's parameters.\n",
    "It calculates delta3, dW2, and db2 for the output layer.\n",
    "Then, it calculates delta2, dW1, and db1 for the hidden layer.\n",
    "\n",
    "**Training:**\n",
    "\n",
    "train: This method trains the neural network using stochastic gradient descent. It takes the input data X and labels Y, along with hyperparameters num_epochs and batch_size.\n",
    "It iterates through the data for the specified number of epochs.\n",
    "For each epoch, it processes the data in mini-batches (with size batch_size).\n",
    "In each mini-batch, it performs a forward pass, computes the loss, and then performs backpropagation to update the weights and biases.\n",
    "Evaluation:\n",
    "\n",
    "evaluate: This method evaluates the neural network on a given input X and corresponding labels Y.\n",
    "It uses the forward pass to make predictions, and then calculates the accuracy by comparing the predicted class labels with the true labels.\n",
    "Overall, this class encapsulates the entire training and evaluation process of a simple feedforward neural network. You can create an instance of this class, train it on your data, and then evaluate its performance."
   ]
  },
  {
   "cell_type": "code",
   "execution_count": 174,
   "id": "371df4e2",
   "metadata": {},
   "outputs": [],
   "source": [
    "class SimpleNeuralNetwork:\n",
    "    \n",
    "    def __init__(self, input_size, hidden_size, output_size, learning_rate=0.01):\n",
    "        self.input_size = input_size\n",
    "        self.hidden_size = hidden_size\n",
    "        self.output_size = output_size\n",
    "        self.learning_rate = learning_rate\n",
    "\n",
    "        # Initialize weights and biases\n",
    "        np.random.seed(0)\n",
    "        self.W1 = np.random.randn(input_size, hidden_size)\n",
    "        self.b1 = np.zeros((1, hidden_size))\n",
    "        self.W2 = np.random.randn(hidden_size, output_size)\n",
    "        self.b2 = np.zeros((1, output_size))\n",
    "\n",
    "    def _sigmoid(self, x):\n",
    "        return 1 / (1 + np.exp(-x))\n",
    "\n",
    "    def _softmax(self, x):\n",
    "        exp_scores = np.exp(x)\n",
    "        return exp_scores / np.sum(exp_scores, axis=1, keepdims=True)\n",
    "\n",
    "    def _forward_pass(self, X):\n",
    "        z1 = X.dot(self.W1) + self.b1\n",
    "        a1 = self._sigmoid(z1)\n",
    "        z2 = a1.dot(self.W2) + self.b2\n",
    "        return a1, self._softmax(z2)\n",
    "\n",
    "    def _compute_loss(self, probs, Y):\n",
    "        corect_logprobs = -np.log(probs[range(Y.shape[0]), np.argmax(Y, axis=1)])\n",
    "        return np.sum(corect_logprobs) / Y.shape[0]\n",
    "\n",
    "    def _backward_pass(self, X, Y, a1, probs):\n",
    "        delta3 = probs\n",
    "        delta3[range(Y.shape[0]), np.argmax(Y, axis=1)] -= 1\n",
    "        dW2 = (a1.T).dot(delta3)\n",
    "        db2 = np.sum(delta3, axis=0, keepdims=True)\n",
    "        delta2 = delta3.dot(self.W2.T) * (a1 * (1 - a1))\n",
    "        dW1 = np.dot(X.T, delta2)\n",
    "        db1 = np.sum(delta2, axis=0)\n",
    "\n",
    "        return dW1, db1, dW2, db2\n",
    "\n",
    "    def train(self, X, Y, num_epochs=10, batch_size=64):\n",
    "        for epoch in range(num_epochs):\n",
    "            for i in range(0, X.shape[0], batch_size):\n",
    "                X_batch = X[i:i + batch_size]\n",
    "                Y_batch = Y[i:i + batch_size]\n",
    "\n",
    "                # Forward pass\n",
    "                a1, probs = self._forward_pass(X_batch)\n",
    "\n",
    "                # Compute loss\n",
    "                loss = self._compute_loss(probs, Y_batch)\n",
    "\n",
    "                # Backpropagation\n",
    "                dW1, db1, dW2, db2 = self._backward_pass(X_batch, Y_batch, a1, probs)\n",
    "\n",
    "                # Update weights and biases\n",
    "                self.W1 -= self.learning_rate * dW1\n",
    "                self.b1 -= self.learning_rate * db1\n",
    "                self.W2 -= self.learning_rate * dW2\n",
    "                self.b2 -= self.learning_rate * db2\n",
    "\n",
    "            # Print the loss for this epoch\n",
    "            print(f\"Epoch {epoch + 1}/{num_epochs}, Loss: {loss}\")\n",
    "\n",
    "    def evaluate(self, X, Y):\n",
    "        _, probs = self._forward_pass(X)\n",
    "        predicted_class = np.argmax(probs, axis=1)\n",
    "        accuracy = np.mean(predicted_class == np.argmax(Y, axis=1))\n",
    "        return accuracy"
   ]
  },
  {
   "cell_type": "code",
   "execution_count": 175,
   "id": "097e0506",
   "metadata": {},
   "outputs": [
    {
     "name": "stdout",
     "output_type": "stream",
     "text": [
      "Epoch 1/10, Loss: 0.8231784867427754\n",
      "Epoch 2/10, Loss: 0.5634088859862443\n",
      "Epoch 3/10, Loss: 0.4069516138788648\n",
      "Epoch 4/10, Loss: 0.3115415727773541\n",
      "Epoch 5/10, Loss: 0.24290179473165122\n",
      "Epoch 6/10, Loss: 0.19808658937362306\n",
      "Epoch 7/10, Loss: 0.1695090272813785\n",
      "Epoch 8/10, Loss: 0.14760133990934288\n",
      "Epoch 9/10, Loss: 0.12544012601628937\n",
      "Epoch 10/10, Loss: 0.10395063686095628\n",
      "Validation Accuracy: 0.945\n"
     ]
    }
   ],
   "source": [
    "num_classes = 10\n",
    "Y_train = np.eye(num_classes)[Y_train]\n",
    "Y_val = np.eye(num_classes)[Y_val]\n",
    "Y_test = np.eye(num_classes)[Y_test]\n",
    "\n",
    "model = SimpleNeuralNetwork(input_size=X_train.shape[1], hidden_size=128, output_size=num_classes)\n",
    "model.train(X_train, Y_train, num_epochs=10, batch_size=64)\n",
    "\n",
    "val_accuracy = model.evaluate(X_val, Y_val)\n",
    "print(f\"Validation Accuracy: {val_accuracy}\")"
   ]
  },
  {
   "cell_type": "code",
   "execution_count": 188,
   "id": "453c45b2",
   "metadata": {},
   "outputs": [
    {
     "name": "stdout",
     "output_type": "stream",
     "text": [
      "313/313 - 0s - loss: 0.0664 - accuracy: 0.9803 - 408ms/epoch - 1ms/step\n",
      "Test accuracy: 98.03%\n"
     ]
    }
   ],
   "source": [
    "# Evaluate the model on the test set\n",
    "test_loss, test_accuracy = model.evaluate(X_test, Y_test, verbose=2)\n",
    "print(f'Test accuracy: {test_accuracy * 100:.2f}%')"
   ]
  },
  {
   "cell_type": "code",
   "execution_count": null,
   "id": "e417d24b",
   "metadata": {},
   "outputs": [],
   "source": []
  },
  {
   "cell_type": "markdown",
   "id": "d96a331f",
   "metadata": {},
   "source": [
    "### Implement using Tensorflow"
   ]
  },
  {
   "cell_type": "code",
   "execution_count": 182,
   "id": "bb1da201",
   "metadata": {},
   "outputs": [],
   "source": [
    "# Load the MNIST dataset\n",
    "(X_train, Y_train), (X_test, Y_test) = tf.keras.datasets.mnist.load_data()\n",
    "\n",
    "# Normalize pixel values to be between 0 and 1\n",
    "X_train, X_test = X_train / 255.0, X_test / 255.0"
   ]
  },
  {
   "cell_type": "code",
   "execution_count": 183,
   "id": "f2973060",
   "metadata": {},
   "outputs": [
    {
     "name": "stderr",
     "output_type": "stream",
     "text": [
      "2023-10-17 01:50:28.568410: I tensorflow/compiler/xla/stream_executor/cuda/cuda_gpu_executor.cc:894] successful NUMA node read from SysFS had negative value (-1), but there must be at least one NUMA node, so returning NUMA node zero. See more at https://github.com/torvalds/linux/blob/v6.0/Documentation/ABI/testing/sysfs-bus-pci#L344-L355\n",
      "2023-10-17 01:50:29.084865: I tensorflow/compiler/xla/stream_executor/cuda/cuda_gpu_executor.cc:894] successful NUMA node read from SysFS had negative value (-1), but there must be at least one NUMA node, so returning NUMA node zero. See more at https://github.com/torvalds/linux/blob/v6.0/Documentation/ABI/testing/sysfs-bus-pci#L344-L355\n",
      "2023-10-17 01:50:29.085096: I tensorflow/compiler/xla/stream_executor/cuda/cuda_gpu_executor.cc:894] successful NUMA node read from SysFS had negative value (-1), but there must be at least one NUMA node, so returning NUMA node zero. See more at https://github.com/torvalds/linux/blob/v6.0/Documentation/ABI/testing/sysfs-bus-pci#L344-L355\n",
      "2023-10-17 01:50:29.101458: I tensorflow/compiler/xla/stream_executor/cuda/cuda_gpu_executor.cc:894] successful NUMA node read from SysFS had negative value (-1), but there must be at least one NUMA node, so returning NUMA node zero. See more at https://github.com/torvalds/linux/blob/v6.0/Documentation/ABI/testing/sysfs-bus-pci#L344-L355\n",
      "2023-10-17 01:50:29.101703: I tensorflow/compiler/xla/stream_executor/cuda/cuda_gpu_executor.cc:894] successful NUMA node read from SysFS had negative value (-1), but there must be at least one NUMA node, so returning NUMA node zero. See more at https://github.com/torvalds/linux/blob/v6.0/Documentation/ABI/testing/sysfs-bus-pci#L344-L355\n",
      "2023-10-17 01:50:29.101859: I tensorflow/compiler/xla/stream_executor/cuda/cuda_gpu_executor.cc:894] successful NUMA node read from SysFS had negative value (-1), but there must be at least one NUMA node, so returning NUMA node zero. See more at https://github.com/torvalds/linux/blob/v6.0/Documentation/ABI/testing/sysfs-bus-pci#L344-L355\n",
      "2023-10-17 01:50:31.324835: I tensorflow/compiler/xla/stream_executor/cuda/cuda_gpu_executor.cc:894] successful NUMA node read from SysFS had negative value (-1), but there must be at least one NUMA node, so returning NUMA node zero. See more at https://github.com/torvalds/linux/blob/v6.0/Documentation/ABI/testing/sysfs-bus-pci#L344-L355\n",
      "2023-10-17 01:50:31.325918: I tensorflow/compiler/xla/stream_executor/cuda/cuda_gpu_executor.cc:894] successful NUMA node read from SysFS had negative value (-1), but there must be at least one NUMA node, so returning NUMA node zero. See more at https://github.com/torvalds/linux/blob/v6.0/Documentation/ABI/testing/sysfs-bus-pci#L344-L355\n",
      "2023-10-17 01:50:31.326101: I tensorflow/compiler/xla/stream_executor/cuda/cuda_gpu_executor.cc:894] successful NUMA node read from SysFS had negative value (-1), but there must be at least one NUMA node, so returning NUMA node zero. See more at https://github.com/torvalds/linux/blob/v6.0/Documentation/ABI/testing/sysfs-bus-pci#L344-L355\n",
      "2023-10-17 01:50:31.326227: I tensorflow/core/common_runtime/gpu/gpu_device.cc:1886] Created device /job:localhost/replica:0/task:0/device:GPU:0 with 13764 MB memory:  -> device: 0, name: Tesla T4, pci bus id: 0000:00:1e.0, compute capability: 7.5\n"
     ]
    }
   ],
   "source": [
    "# Create a simple feedforward neural network\n",
    "model = models.Sequential([\n",
    "    layers.Flatten(input_shape=(28, 28)),  # Flatten the 28x28 input images\n",
    "    layers.Dense(128, activation='relu'),  # Hidden layer with 128 units and ReLU activation\n",
    "    layers.Dropout(0.2),  # Dropout layer to prevent overfitting\n",
    "    layers.Dense(10, activation='softmax')  # Output layer with 10 units for digit classification\n",
    "])"
   ]
  },
  {
   "cell_type": "code",
   "execution_count": 184,
   "id": "73d6dcb2",
   "metadata": {},
   "outputs": [
    {
     "name": "stdout",
     "output_type": "stream",
     "text": [
      "Epoch 1/10\n"
     ]
    },
    {
     "name": "stderr",
     "output_type": "stream",
     "text": [
      "2023-10-17 01:51:10.863821: I tensorflow/compiler/xla/service/service.cc:168] XLA service 0x7fc3c90fbad0 initialized for platform CUDA (this does not guarantee that XLA will be used). Devices:\n",
      "2023-10-17 01:51:10.863852: I tensorflow/compiler/xla/service/service.cc:176]   StreamExecutor device (0): Tesla T4, Compute Capability 7.5\n",
      "2023-10-17 01:51:10.922489: I tensorflow/compiler/mlir/tensorflow/utils/dump_mlir_util.cc:269] disabling MLIR crash reproducer, set env var `MLIR_CRASH_REPRODUCER_DIRECTORY` to enable.\n",
      "2023-10-17 01:51:11.432076: I tensorflow/compiler/xla/stream_executor/cuda/cuda_dnn.cc:442] Loaded cuDNN version 8700\n",
      "2023-10-17 01:51:11.595248: I ./tensorflow/compiler/jit/device_compiler.h:186] Compiled cluster using XLA!  This line is logged at most once for the lifetime of the process.\n"
     ]
    },
    {
     "name": "stdout",
     "output_type": "stream",
     "text": [
      "1875/1875 [==============================] - 10s 2ms/step - loss: 0.2964 - accuracy: 0.9152 - val_loss: 0.1423 - val_accuracy: 0.9565\n",
      "Epoch 2/10\n",
      "1875/1875 [==============================] - 4s 2ms/step - loss: 0.1430 - accuracy: 0.9570 - val_loss: 0.0966 - val_accuracy: 0.9699\n",
      "Epoch 3/10\n",
      "1875/1875 [==============================] - 4s 2ms/step - loss: 0.1060 - accuracy: 0.9670 - val_loss: 0.0916 - val_accuracy: 0.9713\n",
      "Epoch 4/10\n",
      "1875/1875 [==============================] - 4s 2ms/step - loss: 0.0867 - accuracy: 0.9736 - val_loss: 0.0784 - val_accuracy: 0.9783\n",
      "Epoch 5/10\n",
      "1875/1875 [==============================] - 4s 2ms/step - loss: 0.0750 - accuracy: 0.9761 - val_loss: 0.0729 - val_accuracy: 0.9785\n",
      "Epoch 6/10\n",
      "1875/1875 [==============================] - 4s 2ms/step - loss: 0.0642 - accuracy: 0.9804 - val_loss: 0.0670 - val_accuracy: 0.9796\n",
      "Epoch 7/10\n",
      "1875/1875 [==============================] - 4s 2ms/step - loss: 0.0582 - accuracy: 0.9815 - val_loss: 0.0733 - val_accuracy: 0.9777\n",
      "Epoch 8/10\n",
      "1875/1875 [==============================] - 4s 2ms/step - loss: 0.0514 - accuracy: 0.9833 - val_loss: 0.0687 - val_accuracy: 0.9802\n",
      "Epoch 9/10\n",
      "1875/1875 [==============================] - 4s 2ms/step - loss: 0.0463 - accuracy: 0.9848 - val_loss: 0.0718 - val_accuracy: 0.9788\n",
      "Epoch 10/10\n",
      "1875/1875 [==============================] - 4s 2ms/step - loss: 0.0440 - accuracy: 0.9849 - val_loss: 0.0664 - val_accuracy: 0.9803\n"
     ]
    }
   ],
   "source": [
    "# Compile the model\n",
    "model.compile(optimizer='adam',\n",
    "              loss='sparse_categorical_crossentropy',\n",
    "              metrics=['accuracy'])\n",
    "\n",
    "# Train the model\n",
    "history = model.fit(X_train, Y_train, epochs=10, validation_data=(X_test, Y_test))"
   ]
  },
  {
   "cell_type": "code",
   "execution_count": 185,
   "id": "b643097f",
   "metadata": {},
   "outputs": [
    {
     "name": "stdout",
     "output_type": "stream",
     "text": [
      "313/313 - 0s - loss: 0.0664 - accuracy: 0.9803 - 408ms/epoch - 1ms/step\n",
      "Test accuracy: 98.03%\n"
     ]
    }
   ],
   "source": [
    "# Evaluate the model on the test set\n",
    "test_loss, test_accuracy = model.evaluate(X_test, Y_test, verbose=2)\n",
    "print(f'Test accuracy: {test_accuracy * 100:.2f}%')"
   ]
  },
  {
   "cell_type": "code",
   "execution_count": 186,
   "id": "799517b6",
   "metadata": {},
   "outputs": [
    {
     "data": {
      "text/plain": [
       "Text(0.5, 1.0, 'Training and Validation Accuracy')"
      ]
     },
     "execution_count": 186,
     "metadata": {},
     "output_type": "execute_result"
    },
    {
     "data": {
      "image/png": "[encoded data removed]",
      "text/plain": [
       "<Figure size 1000x500 with 1 Axes>"
      ]
     },
     "metadata": {},
     "output_type": "display_data"
    }
   ],
   "source": [
    "# Plot training history\n",
    "plt.figure(figsize=(10, 5))\n",
    "plt.subplot(1, 2, 1)\n",
    "plt.plot(history.history['accuracy'], label='Training Accuracy')\n",
    "plt.plot(history.history['val_accuracy'], label='Validation Accuracy')\n",
    "plt.xlabel('Epoch')\n",
    "plt.ylabel('Accuracy')\n",
    "plt.ylim([0, 1])\n",
    "plt.legend(loc='lower right')\n",
    "plt.title('Training and Validation Accuracy')"
   ]
  },
  {
   "cell_type": "code",
   "execution_count": 187,
   "id": "6289d256",
   "metadata": {},
   "outputs": [
    {
     "data": {
      "image/png": "[encoded data removed]",
      "text/plain": [
       "<Figure size 640x480 with 1 Axes>"
      ]
     },
     "metadata": {},
     "output_type": "display_data"
    }
   ],
   "source": [
    "plt.subplot(1, 2, 2)\n",
    "plt.plot(history.history['loss'], label='Training Loss')\n",
    "plt.plot(history.history['val_loss'], label='Validation Loss')\n",
    "plt.xlabel('Epoch')\n",
    "plt.ylabel('Loss')\n",
    "plt.legend(loc='upper right')\n",
    "plt.title('Training and Validation Loss')\n",
    "plt.show()"
   ]
  }
 ],
 "metadata": {
  "kernelspec": {
   "display_name": "conda_python3",
   "language": "python",
   "name": "conda_python3"
  },
  "language_info": {
   "codemirror_mode": {
    "name": "ipython",
    "version": 3
   },
   "file_extension": ".py",
   "mimetype": "text/x-python",
   "name": "python",
   "nbconvert_exporter": "python",
   "pygments_lexer": "ipython3",
   "version": "3.10.12"
  }
 },
 "nbformat": 4,
 "nbformat_minor": 5
}
